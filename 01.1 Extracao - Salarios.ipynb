{
 "cells": [
  {
   "attachments": {},
   "cell_type": "markdown",
   "id": "fdd1697a-b524-4090-a8d5-aeb4500a0469",
   "metadata": {
    "tags": []
   },
   "source": [
    "## Importando as Bibliotecas"
   ]
  },
  {
   "cell_type": "code",
   "execution_count": null,
   "id": "a16d0df5-3c3a-4dd9-a92c-5cee16f3b4de",
   "metadata": {},
   "outputs": [],
   "source": [
    "from selenium import webdriver\n",
    "from selenium.webdriver.chrome.options import Options\n",
    "\n",
    "import time\n",
    "import os\n",
    "import pandas as pd"
   ]
  },
  {
   "attachments": {},
   "cell_type": "markdown",
   "id": "b721a45f-1e55-4af4-9aa0-8caaf7a6b264",
   "metadata": {
    "tags": []
   },
   "source": [
    "### Monitor de download: Função que espera o download de um arquivo acabar, com um timeout específico"
   ]
  },
  {
   "cell_type": "code",
   "execution_count": null,
   "id": "86039274-db87-4b67-ab01-8a5fb8ef9339",
   "metadata": {},
   "outputs": [],
   "source": [
    "import time\n",
    "\n",
    "def download_wait(directory, timeout, nfiles=None):\n",
    "    \"\"\"\n",
    "    Wait for downloads to finish with a specified timeout.\n",
    "\n",
    "    Args\n",
    "    ----\n",
    "    directory : str\n",
    "        The path to the folder where the files will be downloaded.\n",
    "    timeout : int\n",
    "        How many seconds to wait until timing out.\n",
    "    nfiles : int, defaults to None\n",
    "        If provided, also wait for the expected number of files.\n",
    "\n",
    "    \"\"\"\n",
    "    seconds = 0\n",
    "    dl_wait = True\n",
    "    while dl_wait and seconds < timeout:\n",
    "        time.sleep(1)\n",
    "        dl_wait = False\n",
    "        files = os.listdir(directory)\n",
    "        if nfiles and len(files) != nfiles:\n",
    "            dl_wait = True\n",
    "\n",
    "        for fname in files:\n",
    "            if fname.endswith('.crdownload'):\n",
    "                dl_wait = True\n",
    "\n",
    "        seconds += 1\n",
    "    return seconds"
   ]
  },
  {
   "attachments": {},
   "cell_type": "markdown",
   "id": "9c78e963-05d4-4cfb-9915-8e4e857709b6",
   "metadata": {
    "tags": []
   },
   "source": [
    "## Inicializar classe RemuneracoesCampinas com Selenium e Chromium\n",
    "#### A classe contém a conexão com o navegador e configurações, o link para o site e determinadas ações para realizar dentro do site"
   ]
  },
  {
   "cell_type": "code",
   "execution_count": null,
   "id": "ee15bc88-eb94-4f5e-b078-8bf3ecd1c61e",
   "metadata": {
    "tags": []
   },
   "outputs": [],
   "source": [
    "class RemuneracoesCampinas:\n",
    "    def __init__(self):\n",
    "        self.site_link = \"https://remuneracoes.campinas.sp.gov.br/remuneracoes/relatorio/PMCTransparenciaSalarioServidor\"\n",
    "        self.site_map = {\n",
    "            \"buttons\":{\n",
    "                \"ano\":{\n",
    "                    \"xpath\" : \"/html/body/div[3]/div[1]/form/div[4]/div/div/div[1]\",\n",
    "                    \"xpath_selection\" : \"/html/body/div[3]/div[1]/form/div[4]/div/div/div[2]/div/div\"\n",
    "                },\n",
    "                \"mes\":{\n",
    "                    \"xpath\" : \"/html/body/div[3]/div[1]/form/div[5]/div/div/div[1]\",\n",
    "                    \"xpath_selection\" : \"/html/body/div[3]/div[1]/form/div[5]/div/div/div[2]/div/div\"\n",
    "                },\n",
    "                \"download\":{\n",
    "                    \"xpath\" : \"/html/body/div[3]/div[1]/form/div[6]/div[2]/button[2]\"\n",
    "                }\n",
    "            }\n",
    "        }\n",
    "        self.options = Options()\n",
    "        self.options.binary_location = f\"{os.getcwd()}\\\\chrome-win\\\\chrome.exe\"\n",
    "        self.options.add_experimental_option('prefs', {\n",
    "            \"download.default_directory\": f\"{os.getcwd()}\\\\Downloads_base_salarios\",\n",
    "        })\n",
    "        self.driver = webdriver.Chrome(executable_path=f\"{os.getcwd()}\\\\chromedriver.exe\", options = self.options)\n",
    "\n",
    "    def abrir_site(self):\n",
    "        time.sleep(2)\n",
    "        self.driver.get(self.site_link)\n",
    "        time.sleep(7)\n",
    "        \n",
    "    def seleciona(self, campo, valor):\n",
    "        xpath = self.site_map[\"buttons\"][campo][\"xpath\"]\n",
    "        xpath_selection = self.site_map[\"buttons\"][campo][\"xpath_selection\"]\n",
    "        self.driver.find_element(\"xpath\", xpath).click()\n",
    "        time.sleep(1)\n",
    "        self.driver.find_element(\"xpath\", xpath_selection+'[@data-value=\"' + valor + '\"]').click()\n",
    "        \n",
    "    def download(self):\n",
    "        self.driver.find_element(\"xpath\", self.site_map[\"buttons\"][\"download\"][\"xpath\"]).click()\n",
    "        \n",
    "    def get_driver(self): return self.driver\n",
    "    def get_site_map(self): return self.site_map"
   ]
  },
  {
   "cell_type": "code",
   "execution_count": null,
   "id": "9e298df9-c67a-4d66-8e66-5cb416ec1772",
   "metadata": {},
   "outputs": [],
   "source": [
    "rc = RemuneracoesCampinas()"
   ]
  },
  {
   "attachments": {},
   "cell_type": "markdown",
   "id": "eebd22db-fc24-46a7-98d5-b7f1b100f6d5",
   "metadata": {
    "tags": []
   },
   "source": [
    "## Navegação pelo site"
   ]
  },
  {
   "attachments": {},
   "cell_type": "markdown",
   "id": "9d596d05-9f2e-45c8-83e8-f244b0ff9c88",
   "metadata": {
    "tags": []
   },
   "source": [
    "##### Variaveis: são utilizados vetores com os anos e meses possíveis para realizar o download do site"
   ]
  },
  {
   "cell_type": "code",
   "execution_count": null,
   "id": "842bd8c5-98a8-4cb2-8918-a9ddb61269ca",
   "metadata": {},
   "outputs": [],
   "source": [
    "anos = [\"2016\", \"2017\", \"2018\", \"2019\", \"2020\", \"2021\", \"2022\", \"2023\"]\n",
    "meses = [\"Janeiro\", \"Fevereiro\", \"Março\", \"Abril\", \"Maio\", \"Junho\", \"Julho\", \"Agosto\", \"Setembro\", \"Outubro\", \"Novembro\", \"Dezembro\"]\n",
    "meses_n = [\"01\", \"02\", \"03\", \"04\", \"05\", \"06\", \"07\", \"08\", \"09\", \"10\", \"11\", \"12\"]"
   ]
  },
  {
   "attachments": {},
   "cell_type": "markdown",
   "id": "4184ca2c-1243-4409-be83-3e6a24637884",
   "metadata": {},
   "source": [
    "### Manipulando site com tratamento de excessão\n",
    "Dentro desse loop for, o código vai baixar, para cada ano em cada mes a base de remunerações correspondente. E renomeandoo arquivo baixado com o sufixo do ano e mes que baixou."
   ]
  },
  {
   "cell_type": "code",
   "execution_count": null,
   "id": "0f5f296b-e654-4a75-9070-914e9f97604e",
   "metadata": {},
   "outputs": [],
   "source": [
    "rc.abrir_site()"
   ]
  },
  {
   "cell_type": "code",
   "execution_count": null,
   "id": "0e07b7b0-d050-4b76-bfd0-40637c3572c3",
   "metadata": {},
   "outputs": [],
   "source": [
    "for ano in anos:\n",
    "    rc.seleciona(\"ano\", ano)\n",
    "    for idx, mes in enumerate(meses):\n",
    "        rc.seleciona(\"mes\", mes)\n",
    "        i=0\n",
    "        while True:\n",
    "            try:\n",
    "                rc.download()\n",
    "                download_wait(f\"{os.getcwd()}\\\\Downloads_base_salarios\", 180)\n",
    "                os.rename(f\"{os.getcwd()}\\\\Downloads_base_salarios\\\\PMCTransparenciaSalarioServidor.csv\", f\"{os.getcwd()}\\\\Downloads_base_salarios\\\\PMCTransparenciaSalarioServidor_\"+ano+meses_n[idx]+\".csv\")\n",
    "                break\n",
    "            except:\n",
    "                if(i==10):\n",
    "                    time.sleep(1)\n",
    "                    rc.abrir_site()\n",
    "                    time.sleep(1)\n",
    "                    rc.seleciona(\"ano\", ano)\n",
    "                    time.sleep(1)\n",
    "                    rc.seleciona(\"mes\", mes)\n",
    "                    time.sleep(1)\n",
    "                    i=0\n",
    "                i+=1"
   ]
  },
  {
   "attachments": {},
   "cell_type": "markdown",
   "id": "96b49761",
   "metadata": {},
   "source": [
    "### Empilhar"
   ]
  },
  {
   "cell_type": "code",
   "execution_count": 4,
   "id": "e9a840c2",
   "metadata": {},
   "outputs": [],
   "source": [
    "nome_diretorio = f'{os.getcwd()}\\\\Downloads_base_salarios'\n",
    "csvs_historico = os.listdir(nome_diretorio)\n",
    "for idx, arq in enumerate(csvs_historico):\n",
    "    caminho_arq = nome_diretorio+\"\\\\\"+arq\n",
    "    anomes = arq[32:38]\n",
    "    \n",
    "    if(idx==0):\n",
    "        df = pd.read_csv(caminho_arq,sep=';')\n",
    "        df[\"Anomes\"] = anomes\n",
    "    else:\n",
    "        df_mes = pd.read_csv(caminho_arq,sep=';')\n",
    "        df_mes[\"Anomes\"] = anomes\n",
    "        df = pd.concat([df,df_mes])\n",
    "        \n",
    "df.to_csv('base_salarios_completa.csv', index=False)"
   ]
  }
 ],
 "metadata": {
  "kernelspec": {
   "display_name": "Python 3 (ipykernel)",
   "language": "python",
   "name": "python3"
  },
  "language_info": {
   "codemirror_mode": {
    "name": "ipython",
    "version": 3
   },
   "file_extension": ".py",
   "mimetype": "text/x-python",
   "name": "python",
   "nbconvert_exporter": "python",
   "pygments_lexer": "ipython3",
   "version": "3.11.3"
  }
 },
 "nbformat": 4,
 "nbformat_minor": 5
}
