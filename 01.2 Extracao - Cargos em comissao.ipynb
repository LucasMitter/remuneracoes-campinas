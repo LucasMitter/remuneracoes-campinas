{
 "cells": [
  {
   "attachments": {},
   "cell_type": "markdown",
   "id": "9726dbd3",
   "metadata": {},
   "source": [
    "## Instalando Requisitos"
   ]
  },
  {
   "cell_type": "raw",
   "id": "fe656de9",
   "metadata": {},
   "source": [
    "!pip install tabula-py"
   ]
  },
  {
   "attachments": {},
   "cell_type": "markdown",
   "id": "b4c665c0-4593-47b3-ac7a-058fcd9b3031",
   "metadata": {
    "tags": []
   },
   "source": [
    "## Imports"
   ]
  },
  {
   "cell_type": "code",
   "execution_count": null,
   "id": "e0b1a103-b2ce-4a54-a44f-e1c686487949",
   "metadata": {},
   "outputs": [],
   "source": [
    "from tabula import read_pdf\n",
    "from selenium import webdriver\n",
    "from selenium.webdriver.chrome.options import Options\n",
    "\n",
    "import time\n",
    "import os"
   ]
  },
  {
   "attachments": {},
   "cell_type": "markdown",
   "id": "994c00c5-1133-41b1-a164-fcb23c3e12ee",
   "metadata": {
    "tags": []
   },
   "source": [
    "### Monitor de download"
   ]
  },
  {
   "cell_type": "code",
   "execution_count": null,
   "id": "d0f7678f-ab06-4291-bf31-f768783e1c04",
   "metadata": {},
   "outputs": [],
   "source": [
    "import time\n",
    "\n",
    "def download_wait(directory, timeout, nfiles=None):\n",
    "    \"\"\"\n",
    "    Wait for downloads to finish with a specified timeout.\n",
    "\n",
    "    Args\n",
    "    ----\n",
    "    directory : str\n",
    "        The path to the folder where the files will be downloaded.\n",
    "    timeout : int\n",
    "        How many seconds to wait until timing out.\n",
    "    nfiles : int, defaults to None\n",
    "        If provided, also wait for the expected number of files.\n",
    "    \"\"\"\n",
    "    seconds = 0\n",
    "    dl_wait = True\n",
    "    while dl_wait and seconds < timeout:\n",
    "        time.sleep(1)\n",
    "        dl_wait = False\n",
    "        files = os.listdir(directory)\n",
    "        if nfiles and len(files) != nfiles:\n",
    "            dl_wait = True\n",
    "\n",
    "        for fname in files:\n",
    "            if fname.endswith('.crdownload'):\n",
    "                dl_wait = True\n",
    "\n",
    "        seconds += 1\n",
    "    return seconds"
   ]
  },
  {
   "attachments": {},
   "cell_type": "markdown",
   "id": "311ca0b7-f9b9-4132-9fb2-bbbc5f1a1e44",
   "metadata": {
    "tags": []
   },
   "source": [
    "## Inicializar classe RemuneracoesCampinas com Selenium e Chromium"
   ]
  },
  {
   "cell_type": "code",
   "execution_count": null,
   "id": "98afdcc0-c6d7-4c70-bd5f-8509b06b3bce",
   "metadata": {
    "tags": []
   },
   "outputs": [],
   "source": [
    "class CargosESalariosCampinas:\n",
    "    def __init__(self):\n",
    "        self.site_link = \"https://cargosesalarios.campinas.sp.gov.br/\"\n",
    "        self.site_map = {\n",
    "            \"buttons\":{\n",
    "                \"cargosemcomissao\":{\n",
    "                    \"xpath\" : \"/html/body/div[3]/div/div/div/form/div/ul/li[9]/a\"\n",
    "                }\n",
    "            }\n",
    "        }\n",
    "        self.options = Options()\n",
    "        self.options.binary_location = f\"{os.getcwd()}\\\\chrome-win\\\\chrome.exe\"\n",
    "        self.options.add_experimental_option('prefs', {\n",
    "            \"download.default_directory\": os.getcwd(), \n",
    "            \"plugins.always_open_pdf_externally\": True #Faz o download ao invez de abrir no chrome\n",
    "        })\n",
    "\n",
    "        self.driver = webdriver.Chrome(executable_path=f\"{os.getcwd()}\\\\chromedriver.exe\", options = self.options)\n",
    "        \n",
    "    def abrir_site(self):\n",
    "        time.sleep(2)\n",
    "        self.driver.get(self.site_link)\n",
    "        time.sleep(7)\n",
    "        \n",
    "    def click(self, campo):\n",
    "        xpath = self.site_map[\"buttons\"][campo][\"xpath\"]\n",
    "        self.driver.find_element(\"xpath\", xpath).click()\n",
    "          "
   ]
  },
  {
   "cell_type": "code",
   "execution_count": null,
   "id": "cacd666c-d84a-485b-8c59-90a028f07dc9",
   "metadata": {},
   "outputs": [],
   "source": [
    "cs = CargosESalariosCampinas()"
   ]
  },
  {
   "cell_type": "code",
   "execution_count": null,
   "id": "d1626b03-7a45-48b9-a651-93904d2449c2",
   "metadata": {},
   "outputs": [],
   "source": [
    "cs.abrir_site()"
   ]
  },
  {
   "cell_type": "code",
   "execution_count": null,
   "id": "9cf8ccd5-33c3-4802-8516-78b8360d2af1",
   "metadata": {},
   "outputs": [],
   "source": [
    "cs.click('cargosemcomissao')"
   ]
  },
  {
   "cell_type": "code",
   "execution_count": null,
   "id": "bb58e158-8e66-45f9-9a6e-b4d31e502183",
   "metadata": {},
   "outputs": [],
   "source": [
    "pdf = read_pdf(\"Tabela Salarial - Cargos em Comissão - Mai22 - ret.pdf\", pages=\"all\", encoding=\"ISO-8859-1\")"
   ]
  },
  {
   "cell_type": "code",
   "execution_count": null,
   "id": "ef70ce6c-65d7-4d50-a3b4-01934a15dd30",
   "metadata": {},
   "outputs": [],
   "source": [
    "df_cargoscomissao = pdf[0]"
   ]
  },
  {
   "cell_type": "code",
   "execution_count": null,
   "id": "2f4765e1-4254-45bd-befb-e6e95d1e15b1",
   "metadata": {},
   "outputs": [],
   "source": [
    "df_cargoscomissao['FLAG_COMISSAO'] = True"
   ]
  },
  {
   "cell_type": "code",
   "execution_count": null,
   "id": "a5fcff83-759a-499b-a853-a9ea090d9292",
   "metadata": {},
   "outputs": [],
   "source": [
    "df_cargoscomissao.to_csv('cargosemcomissao.csv', index=False)"
   ]
  }
 ],
 "metadata": {
  "kernelspec": {
   "display_name": "Python 3 (ipykernel)",
   "language": "python",
   "name": "python3"
  },
  "language_info": {
   "codemirror_mode": {
    "name": "ipython",
    "version": 3
   },
   "file_extension": ".py",
   "mimetype": "text/x-python",
   "name": "python",
   "nbconvert_exporter": "python",
   "pygments_lexer": "ipython3",
   "version": "3.11.3"
  }
 },
 "nbformat": 4,
 "nbformat_minor": 5
}
