{
 "cells": [
  {
   "attachments": {},
   "cell_type": "markdown",
   "id": "8cb0e989",
   "metadata": {},
   "source": [
    "## Instalando Requisitos"
   ]
  },
  {
   "attachments": {},
   "cell_type": "markdown",
   "id": "56767857",
   "metadata": {},
   "source": [
    "### webdrivermanager\n",
    "### https://pypi.org/project/webdriver-manager/\n",
    "\n",
    "### versao Chromium e driver(chrome-win.zip e chromedriver_win32.zip): https://commondatastorage.googleapis.com/chromium-browser-snapshots/index.html?prefix=Win/991466/"
   ]
  },
  {
   "cell_type": "raw",
   "id": "b46507ee",
   "metadata": {},
   "source": [
    "!pip install selenium"
   ]
  },
  {
   "cell_type": "raw",
   "id": "3d70dca2",
   "metadata": {},
   "source": [
    "!pip install webdriver-manager"
   ]
  },
  {
   "attachments": {},
   "cell_type": "markdown",
   "id": "c3c77d57",
   "metadata": {},
   "source": [
    "## Imports"
   ]
  },
  {
   "cell_type": "code",
   "execution_count": null,
   "id": "150c6953",
   "metadata": {},
   "outputs": [],
   "source": [
    "from selenium import webdriver\n",
    "from selenium.webdriver.chrome.options import Options\n",
    "\n",
    "import time"
   ]
  },
  {
   "attachments": {},
   "cell_type": "markdown",
   "id": "6a7f5141",
   "metadata": {},
   "source": [
    "## Cria lista de nomes possíveis de cargos utilizando a base_salarios_completa.csv como fonte"
   ]
  },
  {
   "cell_type": "code",
   "execution_count": null,
   "id": "0cbeb025",
   "metadata": {},
   "outputs": [],
   "source": [
    "import pandas as pd\n",
    "df = pd.read_csv('base_salarios_completa.csv')\n",
    "\n",
    "# Removendo espaços do Código Cargo\n",
    "df['Código Cargo'] = (\n",
    "    df['Código Cargo'].str.replace('\\n','')\n",
    "    .str.rstrip()\n",
    "    .str.lstrip()    \n",
    "    .to_list()\n",
    ")\n",
    "# Filtra Matriculas válidas\n",
    "df = df[(df['Matricula']!=\"true\") & (df['Código Cargo']!=\"\")] # Remove a linha true, erro da base\n",
    "# Divide o Código cargo em numero e nome\n",
    "df['Numero Cargo'] = df['Código Cargo'].str.split(' ').str[0] \n",
    "df['Numero Cargo'] = df['Numero Cargo'].astype(int)\n",
    "df['Nome Cargo'] = (\n",
    "    df['Código Cargo'].str.split(' ')\n",
    "    .str[2:]\n",
    "    .str.join(' ')\n",
    "    .str.replace(' \\n', '')\n",
    "    .str.replace('\\n', '')\n",
    ")\n",
    "\n",
    "df['Nome Cargo'] = (\n",
    "    df['Nome Cargo'].str.replace('\\n','')\n",
    "    .str.rstrip()\n",
    "    .str.lstrip()    \n",
    "    .to_list()\n",
    ")\n",
    "cargos = df[~df['Nome Cargo'].isna()].drop_duplicates('Nome Cargo')['Nome Cargo'].to_list()\n",
    "# Cria lista de possíveis nomes de cargos\n",
    "cargos_v2 = list()\n",
    "for x in cargos: cargos_v2 = cargos_v2 + x.replace(\" \", \".\").replace(\"/\", \".\").replace(\"(A)\", \"\").replace(\"-\", \".\").split('.')\n",
    "\n",
    "# Remove duplicidade\n",
    "cargos_v2 = list(dict.fromkeys(cargos_v2))\n",
    "\n",
    "# Remove espaço\n",
    "cargos_v2.remove(\"\")\n",
    "\n",
    "# Tamanho cargos_v2 \n",
    "len(cargos_v2)\n",
    "\n",
    "# Adicionando alfabeto\n",
    "cargos_v2 = cargos_v2 + ['a', 'b', 'c', 'd', 'e', 'f', 'g', 'h', 'i', 'j', 'k', 'l', 'm', 'n', 'o', 'p', 'q', 'r', 's', 't', 'u', 'v', 'w', 'x', 'y', 'z']"
   ]
  },
  {
   "attachments": {},
   "cell_type": "markdown",
   "id": "86efbdcc",
   "metadata": {},
   "source": [
    "## Inicializar classe RemuneracoesCampinas com Selenium e Chromium"
   ]
  },
  {
   "cell_type": "code",
   "execution_count": null,
   "id": "e3dc71a4",
   "metadata": {},
   "outputs": [],
   "source": [
    "class InformacoesDeCargo:\n",
    "    def __init__(self):\n",
    "        self.site_link = \"https://cargosesalarios.campinas.sp.gov.br/index.php?op=6\"\n",
    "        self.options = Options()\n",
    "        self.options.binary_location = f\"{os.getcwd()}\\\\chrome-win\\\\chrome.exe\"\n",
    "        self.driver = webdriver.Chrome(executable_path = f\"{os.getcwd()}\\\\chromedriver.exe\", options = self.options)\n",
    "                \n",
    "    def abrir_site(self):\n",
    "        time.sleep(2)\n",
    "        self.driver.get(self.site_link)\n",
    "        time.sleep(7)\n",
    "        \n",
    "    def get_driver(self): return self.driver"
   ]
  },
  {
   "attachments": {},
   "cell_type": "markdown",
   "id": "9495bf1a",
   "metadata": {},
   "source": [
    "## Desenvolvimento do download"
   ]
  },
  {
   "cell_type": "code",
   "execution_count": null,
   "id": "609a4a4e",
   "metadata": {},
   "outputs": [],
   "source": [
    "ic = InformacoesDeCargo()\n",
    "dv = ic.get_driver()\n",
    "ic.abrir_site()\n",
    "\n",
    "# Cria listas vazias\n",
    "lista_codigo_cargo_ja_baixado = list()\n",
    "lista_dicionario_dados_cargos = []\n",
    "lista_pesquisas_realizadas = list()\n",
    "\n",
    "#Altera para a aba principal\n",
    "dv.switch_to.window(dv.window_handles[0])\n",
    "\n",
    "for cargo in [x for x in cargos_v2 if x not in lista_pesquisas_realizadas]:\n",
    "    print(cargo)\n",
    "    form = dv.find_element(\"xpath\", \"/html/body/div[3]/div/div/div/div[2]/div/div/input\")\n",
    "    form.clear()\n",
    "    form.send_keys(cargo)\n",
    "    dv.find_element(\"xpath\", \"/html/body/div[3]/div/div/div/div[2]/div/div/div/button\").click()\n",
    "    time.sleep(0.5)\n",
    "    try:\n",
    "        if dv.find_element(\"xpath\", \"/html/body/div[3]/div/div/div/div[3]/div/div/ul/li/span\").text == \"Nenhum cargo com este nome!\": \n",
    "            print(\"Sem resultado na pesquisa\")\n",
    "            lista_pesquisas_realizadas.append(cargo)\n",
    "            continue\n",
    "    except:\n",
    "        print(\"Encontrou resultado\")\n",
    "\n",
    "    raw_resposta_cargos = dv.find_element(\"xpath\", \"/html/body/div[3]/div/div/div/div[3]/div/div[2]/table/tbody\").text.split('\\n')\n",
    "    lista_codigo_cargo = list()\n",
    "    lista_nome_cargo = list()\n",
    "\n",
    "    for nome in raw_resposta_cargos:\n",
    "        codigo_cargo = nome.split(' ', 1)[0]\n",
    "        nome_cargo = nome.split(' ', 1)[0]\n",
    "        lista_codigo_cargo.append(codigo_cargo)\n",
    "        lista_nome_cargo.append(nome_cargo)\n",
    "    lista_codigo_cargo\n",
    "\n",
    "\n",
    "    for idx, codigo_cargo in enumerate([x for x in lista_codigo_cargo if x not in lista_codigo_cargo_ja_baixado]):\n",
    "        # Obtem a URL do cargo a baixar\n",
    "        url_cargo_a_baixar = dv.find_element(\"xpath\", f\"//*[text()='{codigo_cargo}']\").find_element(\"xpath\", \"./..\").find_element(\"xpath\", \"td[2]/a\").get_attribute('href')\n",
    "\n",
    "        # Abrir uma nova guia\n",
    "        dv.execute_script(\"window.open('');\")\n",
    "\n",
    "        # Alternar para a nova guia\n",
    "        dv.switch_to.window(dv.window_handles[-1])\n",
    "        dv.get(url_cargo_a_baixar)\n",
    "\n",
    "        # Coleta os dados do cargo, com alguns tratamentos previos\n",
    "        dados_cargo = {\n",
    "                'codigo_cargo': codigo_cargo,\n",
    "                'nome_completo': dv.find_element(\"xpath\", \"/html/body/div[3]/div/div/div[2]/div/ul/li[1]\").text.replace(\"Cargo: \", \"\").replace(\"\\nCARREIRA\", \"\"),\n",
    "                'jornada_mensal': dv.find_element(\"xpath\", \"/html/body/div[3]/div/div/div[2]/div/ul/li[2]\").text.replace(\"Jornada Mensal: \", \"\"),\n",
    "                'requisitos': dv.find_element(\"xpath\", \"/html/body/div[3]/div/div/div[2]/div/ul/li[3]\").text.replace(\"Requisitos: \", \"\"),\n",
    "                'experiencia': dv.find_element(\"xpath\", \"/html/body/div[3]/div/div/div[2]/div/ul/li[4]\").text.replace(\"Experiência: \", \"\"),\n",
    "                'atribuicoes': dv.find_element(\"xpath\", \"/html/body/div[3]/div/div/div[2]/div/ul/li[5]\").text.replace(\"Atribuições:\\n \", \"\"),\n",
    "                'grupo': dv.find_element(\"xpath\", \"/html/body/div[3]/div/div/div[2]/div/ul/li[6]\").text.replace(\"Grupo: \", \"\"),\n",
    "                'lei': dv.find_element(\"xpath\", \"/html/body/div[3]/div/div/div[2]/div/ul/li[7]\").text.replace(\"Lei: \", \"\"),\n",
    "                'decreto': dv.find_element(\"xpath\", \"/html/body/div[3]/div/div/div[2]/div/ul/li[8]\").text.replace(\"Decreto: \", \"\"),\n",
    "            }\n",
    "\n",
    "        # Adiciona dados do cargo a lista\n",
    "        lista_dicionario_dados_cargos.append(dados_cargo)\n",
    "        \n",
    "        # Marca que ja foi baixado\n",
    "        lista_codigo_cargo_ja_baixado.append(codigo_cargo)\n",
    "          \n",
    "        # Imprime feedback\n",
    "        print(f\"Lista de códigos de cargos ja baixado : {lista_codigo_cargo_ja_baixado}\")\n",
    "        print(f\"Dados Cargo : {dados_cargo}\")\n",
    "\n",
    "        # Fecha a aba\n",
    "        dv.close()\n",
    "\n",
    "        # Alternar de volta para a guia original\n",
    "        dv.switch_to.window(dv.window_handles[0])\n",
    "\n",
    "    # Marca que a pesquisa ja foi realizada\n",
    "    lista_pesquisas_realizadas.append(cargo)"
   ]
  },
  {
   "cell_type": "code",
   "execution_count": null,
   "id": "0171a1c0",
   "metadata": {},
   "outputs": [],
   "source": [
    "len(lista_dicionario_dados_cargos) # 543"
   ]
  },
  {
   "cell_type": "code",
   "execution_count": null,
   "id": "b735e2f9",
   "metadata": {},
   "outputs": [],
   "source": [
    "# cria e salva o dataframe\n",
    "pd_dados_cargos = pd.DataFrame(lista_dicionario_dados_cargos)\n",
    "pd_dados_cargos.to_csv(\"dados_cargos.csv\")"
   ]
  }
 ],
 "metadata": {
  "kernelspec": {
   "display_name": "Python 3 (ipykernel)",
   "language": "python",
   "name": "python3"
  },
  "language_info": {
   "codemirror_mode": {
    "name": "ipython",
    "version": 3
   },
   "file_extension": ".py",
   "mimetype": "text/x-python",
   "name": "python",
   "nbconvert_exporter": "python",
   "pygments_lexer": "ipython3",
   "version": "3.11.3"
  }
 },
 "nbformat": 4,
 "nbformat_minor": 5
}
